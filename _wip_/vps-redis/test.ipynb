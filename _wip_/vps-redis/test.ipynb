{
 "cells": [
  {
   "cell_type": "code",
   "execution_count": 12,
   "metadata": {},
   "outputs": [],
   "source": [
    "import datetime\n",
    "import json\n",
    "import logging\n",
    "import os\n",
    "import threading\n",
    "import time\n",
    "import random\n",
    "\n",
    "import dotenv\n",
    "import flask\n",
    "import psutil\n",
    "import redis\n",
    "\n",
    "dotenv.load_dotenv()\n",
    "\n",
    "redis_host = \"localhost\"\n",
    "redis_port = int(os.environ.get(\"REDIS_PORT_1\"))\n",
    "redis_password = os.environ.get(\"REDIS_PASSWORD\")\n",
    "redis_connection_1 = redis.Redis(host=redis_host, port=redis_port, password=redis_password, decode_responses=True, db=1)\n",
    "\n",
    "list_items = [\"timestamp\", \"room_temperature\", \"cpu_temperature\"]\n",
    "for item in list_items:\n",
    "    redis_connection_1.rpush(item, random.randint(0, 100))\n"
   ]
  }
 ],
 "metadata": {
  "kernelspec": {
   "display_name": "free_env",
   "language": "python",
   "name": "python3"
  },
  "language_info": {
   "codemirror_mode": {
    "name": "ipython",
    "version": 3
   },
   "file_extension": ".py",
   "mimetype": "text/x-python",
   "name": "python",
   "nbconvert_exporter": "python",
   "pygments_lexer": "ipython3",
   "version": "3.11.3"
  }
 },
 "nbformat": 4,
 "nbformat_minor": 2
}
